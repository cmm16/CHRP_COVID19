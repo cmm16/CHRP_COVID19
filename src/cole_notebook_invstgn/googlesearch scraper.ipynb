{
 "cells": [
  {
   "cell_type": "code",
   "execution_count": 7,
   "metadata": {},
   "outputs": [],
   "source": [
    "import re\n",
    "\n",
    "from selenium import webdriver\n",
    "from selenium.webdriver import Chrome\n",
    "from selenium.webdriver.common.by import By\n",
    "from selenium.webdriver.support import expected_conditions as EC\n",
    "from selenium.webdriver.support.ui import WebDriverWait\n",
    "from selenium.webdriver.common.keys import Keys\n",
    "import importlib\n",
    "import sys\n",
    "import argparse\n",
    "import pandas as pd"
   ]
  },
  {
   "cell_type": "code",
   "execution_count": 10,
   "metadata": {},
   "outputs": [],
   "source": [
    "webdriver = \"/Users/work/sideProjs/jsProjs/chromedriver\"\n",
    "driver = Chrome(webdriver)\n",
    "\n",
    "url = 'https://www.google.com/'\n",
    "driver.get(url)\n",
    "\n",
    "search_text = WebDriverWait(driver, 100).until(\n",
    "    EC.presence_of_element_located((By.XPATH, \"//input[@name='q']\"))\n",
    ")\n",
    "\n",
    "phone_number = \"2525 HOLLY HALL, HOUSTON, TX, 77054, United States of America\"\n",
    "search_text.send_keys(phone_number, Keys.RETURN)\n",
    "\n"
   ]
  },
  {
   "cell_type": "code",
   "execution_count": null,
   "metadata": {},
   "outputs": [],
   "source": []
  }
 ],
 "metadata": {
  "kernelspec": {
   "display_name": "Python 3",
   "language": "python",
   "name": "python3"
  },
  "language_info": {
   "codemirror_mode": {
    "name": "ipython",
    "version": 3
   },
   "file_extension": ".py",
   "mimetype": "text/x-python",
   "name": "python",
   "nbconvert_exporter": "python",
   "pygments_lexer": "ipython3",
   "version": "3.7.3"
  }
 },
 "nbformat": 4,
 "nbformat_minor": 2
}
